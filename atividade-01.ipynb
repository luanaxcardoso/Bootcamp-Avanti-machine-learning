{
 "cells": [
  {
   "cell_type": "markdown",
   "id": "e30da5fe",
   "metadata": {},
   "source": [
    "<h3>1️⃣ <span style='color:black;'> <strong>O que é Machine Learning?</strong></span></h3>\n",
    "\n",
    "É como ensinar um computador a aprender sozinho.\n",
    "\n",
    "Em vez de contar tudo o que ele tem que fazer, a gente mostra exemplos para ele.\n",
    "\n",
    "Por exemplo, se mostrarmos muitas fotos de <strong>abacaxis</strong> e de <strong>bananas</strong>, o computador vai olhar para todas elas e aprender o que é um abacaxi e o que é uma banana.\n",
    "\n",
    "---"
   ]
  },
  {
   "cell_type": "markdown",
   "id": "ac6094ab",
   "metadata": {},
   "source": [
    "<h3>2️⃣ <span style='color:black;'> <strong>Explique o conceito de conjunto de treinamento, conjunto de validação e conjunto de teste em machine learning</strong></span></h3>\n",
    "\n",
    "### <span style='color:orange;'><strong>Conjunto de Treinamento</strong></span>\n",
    "\n",
    "É onde o robô aprende.\n",
    "Você mostra várias frutas com os nomes delas e diz:\n",
    "\n",
    "“Olha, isso é um abacaxi! Isso é uma banana!”\n",
    "\n",
    "Ele usa esses exemplos para entender como é cada fruta.\n",
    "\n",
    "### <span style='color:orange;'><strong>Conjunto de Validação</strong></span>\n",
    "\n",
    "Depois que ele aprendeu, a gente mostra algumas frutas novas que ele nunca viu.\n",
    "\n",
    "“Você sabe que fruta é essa?”\n",
    "\n",
    "Se ele errar muito, vamos ajustar como ele está aprendendo.\n",
    "\n",
    "### <span style='color:orange;'><strong>Conjunto de Teste</strong></span>\n",
    "\n",
    "Mostramos frutas diferentes e vemos se o robô consegue acertar sozinho, sem ajudar e nem mudar nada.\n",
    "\n",
    "Assim a gente descobre se ele aprendeu de verdade! ✅\n",
    "\n",
    "---"
   ]
  },
  {
   "cell_type": "markdown",
   "id": "0aa34523",
   "metadata": {},
   "source": [
    "<h3>3️⃣ <span style='color:black;'> <strong>Como lidar com dados ausentes no treinamento?</strong></span></h3>\n",
    "\n",
    "Às vezes, alguns dados estão faltando durante o treinamento — como se estivesse com figurinhas faltando num álbum de frutas .\n",
    "\n",
    "Nesse caso, o que podemos fazer?\n",
    "\n",
    "-  <strong>Preencher com um valor parecido</strong> → Por exemplo, se a maioria das figurinhas de maçã tem a cor vermelha, você pode colocar vermelho na que está faltando.\n",
    "\n",
    "-  <strong>Remover os dados incompletos</strong> → Se forem poucos, dá pra continuar sem eles.\n",
    "\n",
    "-  <strong>Estimar com base em dados parecidos</strong> → Usar outras informações para tentar adivinhar o que está faltando.\n",
    "\n",
    "Com essas estratégias, o computador continua aprendendo bem, mesmo com alguns dados ausentes!\n",
    "\n",
    "---"
   ]
  },
  {
   "cell_type": "markdown",
   "id": "9d01c14b",
   "metadata": {},
   "source": [
    "<h3>4️⃣ <span style='color:black;'> <strong>O que é uma Matriz de Confusão?</strong></span></h3>\n",
    "\n",
    "É como uma tabela de acertos e erros.\n",
    "\n",
    "Por exemplo, o robô está tentando adivinhar se a fruta é uma maçã ou uma banana.\n",
    "\n",
    "Depois que ele responde, a gente olha:\n",
    "\n",
    "- ✅ Quantas vezes ele acertou dizendo que era maçã?\n",
    "- ✅ Quantas vezes ele acertou dizendo que era banana?\n",
    "- ❌ Quantas vezes ele disse maçã mas era banana?\n",
    "- ❌ Quantas vezes ele disse banana mas era maçã?\n",
    "\n",
    "Assim a gente consegue ver:\n",
    "\n",
    "- Onde ele está indo bem \n",
    "- Onde ele está se confundindo \n",
    "\n",
    "---"
   ]
  },
  {
   "cell_type": "markdown",
   "id": "dd4961cb",
   "metadata": {},
   "source": [
    "<h3>5️⃣ <span style='color:black;'> <strong>Onde podemos usar Machine Learning?</strong></span></h3>\n",
    "\n",
    "O Machine Learning pode ajudar em todas as áreas!\n",
    "Todas podem se beneficiar e melhorar com a ajuda de algoritmos de aprendizado de máquina!\n",
    "Cada uma tem sua importância:\n",
    "\n",
    "- 🏗️ <strong>Construção Civil:</strong> prever problemas em obras e manter tudo mais seguro.\n",
    "- 🌾 <strong>Agricultura:</strong> saber a melhor hora de plantar ou colher.\n",
    "- 🏥 <strong>Saúde:</strong> ajudar médicos a descobrir doenças mais rápido.\n",
    "- 🌱 <strong>Ambiental:</strong> monitorar a natureza, prever desastres e proteger o planeta.\n",
    "- 🚓 <strong>Segurança:</strong> encontrar atividades suspeitas e evitar fraudes.\n",
    "- 📱 <strong>Tecnologia:</strong> criar assistentes inteligentes como este aqui! \n",
    "\n",
    "---"
   ]
  }
 ],
 "metadata": {
  "language_info": {
   "name": "python"
  }
 },
 "nbformat": 4,
 "nbformat_minor": 5
}
