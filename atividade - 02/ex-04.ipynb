{
 "cells": [
  {
   "cell_type": "markdown",
   "id": "1fb9dcba",
   "metadata": {},
   "source": [
    "### 4 - Dada uma lista de números inteiros, escreva uma função para encontrar o segundo maior valor na lista."
   ]
  },
  {
   "cell_type": "code",
   "execution_count": 3,
   "id": "63d4a915",
   "metadata": {},
   "outputs": [
    {
     "name": "stdout",
     "output_type": "stream",
     "text": [
      "O segundo maior número da lista é o: 14\n"
     ]
    }
   ],
   "source": [
    "def segundo_maior(lista):\n",
    "    if len(lista) < 2:\n",
    "        return None  # Retorna None se a lista tiver menos de dois elementos\n",
    "    \n",
    "    primeiro = segundo = float('-inf') # Inicializa com o menor valor possível\n",
    "    \n",
    "    for numero in lista:\n",
    "        if numero > primeiro:\n",
    "            segundo = primeiro # Atualiza o segundo maior antes de atualizar o maior\n",
    "            primeiro = numero  # Novo maior encontrado\n",
    "        elif primeiro > numero > segundo:\n",
    "            segundo = numero # Atualiza o segundo maior se o número estiver entre os dois\n",
    "\n",
    "    return segundo if segundo != float('-inf') else None\n",
    "\n",
    "\n",
    "numeros = [10, 4, 6, 7, 9, 1, 3, 12, 8, 5, 2, 11, 15, 14] \n",
    "\n",
    "resultado = segundo_maior(numeros) # Chama a função com a lista de números\n",
    "\n",
    "if resultado is not None:\n",
    "    print(f\"O segundo maior número da lista é o: {resultado}\")\n",
    "else:\n",
    "    \n",
    "    print(\"A lista não possui elementos suficientes para encontrar o segundo maior valor.\")"
   ]
  },
  {
   "cell_type": "markdown",
   "id": "e5ba5c1e",
   "metadata": {},
   "source": [
    "### Explicação do código:\n",
    "\n",
    "- **Verificação do tamanho da lista:**  \n",
    "  Se a lista tem menos de dois elementos, não é possível determinar o segundo maior — por isso retorna `None`.\n",
    "\n",
    "- **Inicialização:**  \n",
    "  Usa `float('-inf')` para garantir que qualquer número da lista será maior e possa substituir os valores iniciais.\n",
    "\n",
    "- **Loop de comparação:**  \n",
    "  - Se o número atual for maior que o maior valor encontrado (`primeiro`), atualiza o segundo maior antes de atualizar o maior.  \n",
    "  - Se o número for menor que o maior, mas maior que o segundo maior, atualiza o segundo maior.\n",
    "\n",
    "- **Retorno:**  \n",
    "  Retorna o segundo maior valor encontrado, ou `None` caso não tenha sido possível (por exemplo, lista com todos os números iguais).\n"
   ]
  }
 ],
 "metadata": {
  "language_info": {
   "name": "python"
  }
 },
 "nbformat": 4,
 "nbformat_minor": 5
}
