{
 "cells": [
  {
   "cell_type": "markdown",
   "id": "1fb9dcba",
   "metadata": {},
   "source": [
    "4 - Dada uma lista de números inteiros, escreva uma função para encontrar o segundo maior valor na lista."
   ]
  },
  {
   "cell_type": "code",
   "execution_count": null,
   "id": "63d4a915",
   "metadata": {},
   "outputs": [],
   "source": [
    "def segundo_maior(lista):\n",
    "    if len(lista) < 2:\n",
    "        return None  # Retorna None se a lista tiver menos de dois elementos\n",
    "    \n",
    "    primeiro = segundo = float('-inf') # Inicializa com o menor valor possível\n",
    "    \n",
    "    for numero in lista:\n",
    "        if numero > primeiro:\n",
    "            segundo = primeiro # Atualiza o segundo maior antes de atualizar o maior\n",
    "            primeiro = numero  # Novo maior encontrado\n",
    "        elif primeiro > numero > segundo:\n",
    "            segundo = numero # Atualiza o segundo maior se o número estiver entre os dois\n",
    "\n",
    "    return segundo if segundo != float('-inf') else None\n",
    "\n",
    "\n",
    "numeros = [10, 4, 6, 7, 9, 1, 3, 12, 8, 5, 2, 11, 15, 14] \n",
    "\n",
    "resultado = segundo_maior(numeros) # Chama a função com a lista de números\n",
    "\n",
    "if resultado is not None:\n",
    "    print(f\"O segundo maior número da lista é: {resultado}\")\n",
    "else:\n",
    "    \n",
    "    print(\"A lista não possui elementos suficientes para encontrar o segundo maior valor.\")"
   ]
  },
  {
   "cell_type": "markdown",
   "id": "e5ba5c1e",
   "metadata": {},
   "source": [
    "Explicação do código:\n",
    "\n",
    "Verificação do tamanho da lista:\n",
    "\n",
    "Se a lista tem menos de dois elementos, não é possível determinar o segundo maior — por isso retorna None.\n",
    "\n",
    "Inicialização:\n",
    "\n",
    "Usa float('-inf') para garantir que qualquer número da lista será maior e possa substituir os valores iniciais.\n",
    "\n",
    "Loop de comparação:\n",
    "\n",
    "Se o número atual for maior que o \"maior\" (primeiro), atualiza o segundo antes.\n",
    "\n",
    "Se for menor que o maior, mas maior que o segundo maior, atualiza o segundo.\n",
    "\n",
    "Retorno:\n",
    "\n",
    "Retorna o segundo maior valor, ou None caso não tenha sido possível encontrá-lo (ex: lista com todos os números iguais)."
   ]
  }
 ],
 "metadata": {
  "language_info": {
   "name": "python"
  }
 },
 "nbformat": 4,
 "nbformat_minor": 5
}
