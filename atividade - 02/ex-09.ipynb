{
 "cells": [
  {
   "cell_type": "markdown",
   "id": "557612e1",
   "metadata": {},
   "source": [
    "### 9 - Utilizando pandas, como selecionar uma coluna específica e filtrar linhas em um “DataFrame” com base em uma condição?"
   ]
  },
  {
   "cell_type": "code",
   "execution_count": 2,
   "id": "f9a11692",
   "metadata": {},
   "outputs": [
    {
     "name": "stdout",
     "output_type": "stream",
     "text": [
      "Coluna 'Doce':\n",
      "0       Brigadeiro\n",
      "1         Beijinho\n",
      "2        Cajuzinho\n",
      "3    Pé de Moleque\n",
      "4          Quindim\n",
      "Name: Doce, dtype: object\n",
      "\n",
      "\n",
      "Doces com preço acima de 3.00:\n",
      "            Doce     Sabor  Preço  Quantidade\n",
      "3  Pé de Moleque  Amendoim    3.5          60\n",
      "4        Quindim      Coco    4.0          40\n",
      "\n",
      "\n"
     ]
    }
   ],
   "source": [
    "import pandas as pd\n",
    "\n",
    "# Criando um DataFrame de exemplo com dados de doces\n",
    "data = {\n",
    "    'Doce': ['Brigadeiro', 'Beijinho', 'Cajuzinho', 'Pé de Moleque', 'Quindim'],\n",
    "    'Sabor': ['Chocolate', 'Coco', 'Amendoim', 'Amendoim', 'Coco'],\n",
    "    'Preço': [2.50, 2.00, 3.00, 3.50, 4.00],\n",
    "    'Quantidade': [100, 150, 80, 60, 40]\n",
    "}\n",
    "\n",
    "df = pd.DataFrame(data)\n",
    "\n",
    "# Seleciona a coluna 'Doce'\n",
    "coluna_doce = df['Doce']\n",
    "print(\"Coluna 'Doce':\")\n",
    "print(coluna_doce)\n",
    "print(\"\\n\")\n",
    "\n",
    "# Filtra linhas com base em uma condição \n",
    "doces_caros = df[df['Preço'] > 3.00]\n",
    "print(\"Doces com preço acima de 3.00:\")\n",
    "print(doces_caros)\n",
    "print(\"\\n\")\n"
   ]
  },
  {
   "cell_type": "markdown",
   "id": "319e2484",
   "metadata": {},
   "source": [
    "### Explicação do código:\n",
    "\n",
    "- O código usa a biblioteca pandas para criar um DataFrame com informações sobre doces, como nome, sabor, preço e quantidade. \n",
    "- Seleciona apenas a coluna \"Doce\" para exibir os nomes dos itens. \n",
    "- Seleciona linhas e aplica um filtro para exibir apenas os doces com preço maior que R$ 3,00.\n",
    "- Mostrando como extrair informações específicas com base em uma condição."
   ]
  }
 ],
 "metadata": {
  "kernelspec": {
   "display_name": "base",
   "language": "python",
   "name": "python3"
  },
  "language_info": {
   "codemirror_mode": {
    "name": "ipython",
    "version": 3
   },
   "file_extension": ".py",
   "mimetype": "text/x-python",
   "name": "python",
   "nbconvert_exporter": "python",
   "pygments_lexer": "ipython3",
   "version": "3.12.7"
  }
 },
 "nbformat": 4,
 "nbformat_minor": 5
}
