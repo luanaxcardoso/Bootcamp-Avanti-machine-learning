{
 "cells": [
  {
   "cell_type": "markdown",
   "id": "557612e1",
   "metadata": {},
   "source": [
    "### 9 - Utilizando pandas, como selecionar uma coluna específica e filtrar linhas em um “DataFrame” com base em uma condição?"
   ]
  }
 ],
 "metadata": {
  "language_info": {
   "name": "python"
  }
 },
 "nbformat": 4,
 "nbformat_minor": 5
}
