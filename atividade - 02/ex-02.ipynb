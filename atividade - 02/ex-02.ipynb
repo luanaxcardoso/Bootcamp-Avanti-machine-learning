{
 "cells": [
  {
   "cell_type": "markdown",
   "id": "09812070",
   "metadata": {},
   "source": [
    "### 2 - Escreva uma função que receba uma lista de números e retorne outra lista com os números primos presentes."
   ]
  },
  {
   "cell_type": "code",
   "execution_count": 1,
   "id": "69368f3b",
   "metadata": {},
   "outputs": [
    {
     "name": "stdout",
     "output_type": "stream",
     "text": [
      "Números primos: [2, 3, 5, 7, 11, 13, 17, 19, 23, 29, 31, 37, 41, 43, 47, 53, 59, 61, 67, 71, 73, 79, 83, 89, 97]\n"
     ]
    }
   ],
   "source": [
    "def numeros_primos():\n",
    "    primos = []  # Lista para armazenar os números primos encontrados\n",
    "\n",
    "    # Percorre os números de 1 até 100\n",
    "    for num in range(1, 101):\n",
    "        if num > 1:    # Números menores ou iguais a 1 não são primos\n",
    "            \n",
    "            # Verifica se o número é divisível por algum valor entre 2 e num-1\n",
    "            for i in range(2, num):\n",
    "                if num % i == 0:\n",
    "                    break  # Se for divisível, não é primo → sai do laço\n",
    "            else:\n",
    "                # Se não entrou no break, é primo → adiciona na lista\n",
    "                primos.append(num)\n",
    "    \n",
    "    return primos  # Retorna a lista de números primos encontrados\n",
    "\n",
    "# Chama a função e imprime a lista de números primos entre 1 e 100\n",
    "print(f\"Números primos: {(numeros_primos())}\")"
   ]
  },
  {
   "cell_type": "markdown",
   "id": "8cb392f7",
   "metadata": {},
   "source": [
    "<br>\n",
    "\n",
    "### Explicação do código:\n",
    "\n",
    "- Esse código define uma função chamada **`numeros_primos`** que encontra todos os números primos de 1 a 100.\n",
    "\n",
    "- Ele começa criando uma lista vazia chamada **`primos`**, onde serão guardados os números primos encontrados.\n",
    "\n",
    "- Em seguida, o código verifica cada número de 1 até 100.\n",
    "\n",
    "- Para cada número, ele checa se ele não é divisível por nenhum número menor que ele (exceto 1).\n",
    "\n",
    "- Se o número passar por essa verificação (ou seja, só é divisível por 1 e por ele mesmo), ele é considerado primo e é adicionado à lista.\n",
    "\n",
    "- No final, a função retorna essa lista com todos os números **`primos`** de 1 a 100.\n"
   ]
  }
 ],
 "metadata": {
  "kernelspec": {
   "display_name": "base",
   "language": "python",
   "name": "python3"
  },
  "language_info": {
   "codemirror_mode": {
    "name": "ipython",
    "version": 3
   },
   "file_extension": ".py",
   "mimetype": "text/x-python",
   "name": "python",
   "nbconvert_exporter": "python",
   "pygments_lexer": "ipython3",
   "version": "3.12.7"
  }
 },
 "nbformat": 4,
 "nbformat_minor": 5
}
