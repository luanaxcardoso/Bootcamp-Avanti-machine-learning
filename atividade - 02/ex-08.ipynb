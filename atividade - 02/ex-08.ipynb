{
 "cells": [
  {
   "cell_type": "markdown",
   "id": "2d0be891",
   "metadata": {},
   "source": [
    "### 8 - Utilizando pandas, como realizar a leitura de um arquivo CSV em um DataFrame e exibir as primeiras linhas?"
   ]
  },
  {
   "cell_type": "code",
   "execution_count": null,
   "id": "7e5e83f0",
   "metadata": {},
   "outputs": [
    {
     "name": "stdout",
     "output_type": "stream",
     "text": [
      "     Fruta  Quantidade  Preço\n",
      "0   Banana          20    1.8\n",
      "1     Maçã          10    2.5\n",
      "2     Pera           8    3.0\n",
      "3  Abacaxi           6    4.5\n",
      "4  Morango          15    5.0\n",
      "\n",
      "\n",
      "Colunas do DataFrame:\n",
      "Index(['Fruta', 'Quantidade', 'Preço'], dtype='object')\n",
      "\n",
      "\n",
      "Dados ordenados por preço (decrescente):\n",
      "        Fruta  Quantidade  Preço\n",
      "14   Melancia           5    7.0\n",
      "5     Abacate           4    6.0\n",
      "7        Kiwi           4    6.0\n",
      "15       Coco           3    5.5\n",
      "4     Morango          15    5.0\n",
      "3     Abacaxi           6    4.5\n",
      "17    Pêssego           7    3.5\n",
      "13        Uva          12    3.2\n",
      "2        Pera           8    3.0\n",
      "16      Mamão          10    2.8\n",
      "6       Manga          10    2.5\n",
      "1        Maçã          10    2.5\n",
      "10  Tangerina           8    2.5\n",
      "8     Laranja          12    2.2\n",
      "9        Caju          10    2.0\n",
      "12      Melão          15    2.0\n",
      "11     Ameixa          20    1.8\n",
      "0      Banana          20    1.8\n",
      "\n",
      "\n",
      "Dados ordenados por nome (crescente):\n",
      "        Fruta  Quantidade  Preço\n",
      "5     Abacate           4    6.0\n",
      "3     Abacaxi           6    4.5\n",
      "11     Ameixa          20    1.8\n",
      "0      Banana          20    1.8\n",
      "9        Caju          10    2.0\n",
      "15       Coco           3    5.5\n",
      "7        Kiwi           4    6.0\n",
      "8     Laranja          12    2.2\n",
      "16      Mamão          10    2.8\n",
      "6       Manga          10    2.5\n",
      "1        Maçã          10    2.5\n",
      "14   Melancia           5    7.0\n",
      "12      Melão          15    2.0\n",
      "4     Morango          15    5.0\n",
      "2        Pera           8    3.0\n",
      "17    Pêssego           7    3.5\n",
      "10  Tangerina           8    2.5\n",
      "13        Uva          12    3.2\n",
      "\n",
      "\n",
      "Frutas com preço acima de 4.00:\n",
      "       Fruta  Quantidade  Preço\n",
      "3    Abacaxi           6    4.5\n",
      "4    Morango          15    5.0\n",
      "5    Abacate           4    6.0\n",
      "7       Kiwi           4    6.0\n",
      "14  Melancia           5    7.0\n",
      "15      Coco           3    5.5\n",
      "\n",
      "\n"
     ]
    }
   ],
   "source": [
    "import pandas as pd\n",
    "\n",
    "# Lendo o arquivo CSV \n",
    "df = pd.read_csv('ex-08.csv')\n",
    "\n",
    "# Exibindo as primeiras linhas do DataFrame\n",
    "print(df.head())\n",
    "print(\"\\n\")\n",
    "\n",
    "# Exibindo os nomes das colunas\n",
    "print(\"Colunas do DataFrame:\")\n",
    "print(df.columns)\n",
    "print(\"\\n\")\n",
    "\n",
    "\n",
    "print(\"Dados ordenados por preço (decrescente):\")\n",
    "print(df.sort_values(by='Preço', ascending=False))\n",
    "print(\"\\n\")\n",
    "\n",
    "\n",
    "print(\"Dados ordenados por nome (crescente):\")\n",
    "print(df.sort_values(by='Fruta', ascending=True))\n",
    "print(\"\\n\")\n",
    "\n",
    "\n",
    "print(\"Frutas com preço acima de 4.00:\")\n",
    "print(df[df['Preço'] > 4.00])\n",
    "print(\"\\n\")"
   ]
  },
  {
   "cell_type": "markdown",
   "id": "3def38e4",
   "metadata": {},
   "source": [
    "### Explicação do código:\n",
    "\n",
    "- Este código usa a biblioteca pandas para ler um arquivo salvo em CSV e carregar seus dados em um DataFrame, que é uma estrutura de tabela.\n",
    "- Ele exibe algumas maneiras de analisar e visualizar os dados, facilitando a manipulação das informações contidas no arquivo."
   ]
  }
 ],
 "metadata": {
  "kernelspec": {
   "display_name": "base",
   "language": "python",
   "name": "python3"
  },
  "language_info": {
   "codemirror_mode": {
    "name": "ipython",
    "version": 3
   },
   "file_extension": ".py",
   "mimetype": "text/x-python",
   "name": "python",
   "nbconvert_exporter": "python",
   "pygments_lexer": "ipython3",
   "version": "3.12.7"
  }
 },
 "nbformat": 4,
 "nbformat_minor": 5
}
