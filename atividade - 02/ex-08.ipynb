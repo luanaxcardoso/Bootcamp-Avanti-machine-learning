{
 "cells": [
  {
   "cell_type": "markdown",
   "id": "2d0be891",
   "metadata": {},
   "source": [
    "### 8 - Utilizando pandas, como realizar a leitura de um arquivo CSV em um DataFrame e exibir as primeiras linhas?"
   ]
  }
 ],
 "metadata": {
  "language_info": {
   "name": "python"
  }
 },
 "nbformat": 4,
 "nbformat_minor": 5
}
