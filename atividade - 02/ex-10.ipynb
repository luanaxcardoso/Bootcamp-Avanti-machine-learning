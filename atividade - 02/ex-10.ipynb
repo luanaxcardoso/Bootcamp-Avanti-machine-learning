{
 "cells": [
  {
   "cell_type": "markdown",
   "id": "c3c4d558",
   "metadata": {},
   "source": [
    "### 10 - Utilizando pandas, como lidar com valores ausentes (NaN) em um DataFrame?"
   ]
  },
  {
   "cell_type": "code",
   "execution_count": 3,
   "id": "2484783d",
   "metadata": {},
   "outputs": [
    {
     "name": "stdout",
     "output_type": "stream",
     "text": [
      "DataFrame original com valores ausentes:\n",
      "      Produto  Preço  Estoque\n",
      "0        Bolo   10.0      5.0\n",
      "1       Torta   12.5      NaN\n",
      "2       Pudim    NaN      8.0\n",
      "3  Brigadeiro    3.5     20.0\n",
      "4     Coxinha    NaN     15.0\n",
      "\n",
      "\n",
      "DataFrame após remover linhas com NaN:\n",
      "      Produto  Preço  Estoque\n",
      "0        Bolo   10.0      5.0\n",
      "3  Brigadeiro    3.5     20.0\n",
      "\n",
      "\n",
      "DataFrame com valores ausentes preenchidos com 0:\n",
      "      Produto  Preço  Estoque\n",
      "0        Bolo   10.0      5.0\n",
      "1       Torta   12.5      0.0\n",
      "2       Pudim    0.0      8.0\n",
      "3  Brigadeiro    3.5     20.0\n",
      "4     Coxinha    0.0     15.0\n"
     ]
    }
   ],
   "source": [
    "import pandas as pd\n",
    "import numpy as np\n",
    "\n",
    "# DataFrame com valores ausentes (NaN)\n",
    "data = {\n",
    "    'Produto': ['Bolo', 'Torta', 'Pudim', 'Brigadeiro', 'Coxinha'],\n",
    "    'Preço': [10.0, 12.5, np.nan, 3.5, np.nan],\n",
    "    'Estoque': [5, np.nan, 8, 20, 15]\n",
    "}\n",
    "\n",
    "df = pd.DataFrame(data)\n",
    "\n",
    "print(\"DataFrame original com valores ausentes:\")\n",
    "print(df)\n",
    "print(\"\\n\")\n",
    "\n",
    "# Removendo linhas com qualquer valor ausente\n",
    "df_sem_nan = df.dropna()\n",
    "print(\"DataFrame após remover linhas com NaN:\")\n",
    "print(df_sem_nan)\n",
    "print(\"\\n\")\n",
    "\n",
    "# Preenchendo valores ausentes com um valor fixo\n",
    "df_preenchido = df.fillna(0)\n",
    "print(\"DataFrame com valores ausentes preenchidos com 0:\")\n",
    "print(df_preenchido)\n"
   ]
  },
  {
   "cell_type": "markdown",
   "id": "2dea8886",
   "metadata": {},
   "source": [
    "### Explicação do código:\n",
    "\n",
    "- O código usa a biblioteca pandas para montar um DataFrame com produtos que contêm valores ausentes (NaN) nas colunas \"Preço\" e \"Estoque\".\n",
    "- Mostra o DataFrame original para que seja possível visualizar os dados incompletos.\n",
    "- Utiliza o método dropna() para remover todas as linhas que possuem qualquer valor ausente, gerando um novo DataFrame apenas com dados completos.\n",
    "- Usa o método fillna(0) para substituir os valores NaN por zero, que é útil para manter todas as linhas e evitar problemas em cálculos ou análises futuras."
   ]
  }
 ],
 "metadata": {
  "kernelspec": {
   "display_name": "base",
   "language": "python",
   "name": "python3"
  },
  "language_info": {
   "codemirror_mode": {
    "name": "ipython",
    "version": 3
   },
   "file_extension": ".py",
   "mimetype": "text/x-python",
   "name": "python",
   "nbconvert_exporter": "python",
   "pygments_lexer": "ipython3",
   "version": "3.12.7"
  }
 },
 "nbformat": 4,
 "nbformat_minor": 5
}
