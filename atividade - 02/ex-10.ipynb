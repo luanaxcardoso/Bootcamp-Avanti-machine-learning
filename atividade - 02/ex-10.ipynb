{
 "cells": [
  {
   "cell_type": "markdown",
   "id": "c3c4d558",
   "metadata": {},
   "source": [
    "### 10 - Utilizando pandas, como lidar com valores ausentes (NaN) em um DataFrame?"
   ]
  }
 ],
 "metadata": {
  "language_info": {
   "name": "python"
  }
 },
 "nbformat": 4,
 "nbformat_minor": 5
}
