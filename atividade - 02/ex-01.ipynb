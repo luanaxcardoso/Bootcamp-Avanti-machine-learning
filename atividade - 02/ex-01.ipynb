{
 "cells": [
  {
   "cell_type": "markdown",
   "id": "294b5a46",
   "metadata": {},
   "source": [
    "1 - Escreva uma função que receba uma lista de números e retorne outra lista com os números ímpares."
   ]
  },
  {
   "cell_type": "code",
   "execution_count": null,
   "id": "7b4e30f6",
   "metadata": {},
   "outputs": [],
   "source": [
    "def filtrar_impares(lista):    # Retorna uma nova lista contendo apenas os números ímpares da lista original\n",
    "    return [numero for numero in lista if numero % 2 != 0]\n",
    "\n",
    "\n",
    "numeros = list(range(1, 100)) # Cria uma lista com números de 1 até 99\n",
    "\n",
    "\n",
    "impares = filtrar_impares(numeros) # Aplica a função para filtrar apenas os números ímpares da lista 'numeros'\n",
    "\n",
    "# Exibe a lista de números ímpares\n",
    "print(f\"Números ímpares: {impares}\")"
   ]
  },
  {
   "cell_type": "markdown",
   "id": "5e190589",
   "metadata": {},
   "source": [
    "Explicação do código:\n",
    "\n",
    "O código define uma função chamada filtrar_impares que recebe uma lista de números e retorna uma nova lista contendo apenas os números ímpares .\n",
    "\n",
    "Isso é feito usando uma list comprehension que percorre cada número na lista, verifica e mantém apenas os que não são divisíveis por 2, ou seja, os números ímpares.\n",
    "\n",
    "Depois, o código cria uma lista chamada numeros com os valores de 1 até 99 usando a função range(1, 100).\n",
    "\n",
    "Em seguida, a função filtrar_impares é chamada com essa lista, e o resultado — a lista de números ímpares — é armazenado na variável impares. \n",
    "\n",
    "No final imprime a lista de números ímpares."
   ]
  }
 ],
 "metadata": {
  "language_info": {
   "name": "python"
  }
 },
 "nbformat": 4,
 "nbformat_minor": 5
}
