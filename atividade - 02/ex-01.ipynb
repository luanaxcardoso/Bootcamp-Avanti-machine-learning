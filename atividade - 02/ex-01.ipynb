{
 "cells": [
  {
   "cell_type": "markdown",
   "id": "294b5a46",
   "metadata": {},
   "source": [
    "### 1 - Escreva uma função que receba uma lista de números e retorne outra lista com os números ímpares."
   ]
  },
  {
   "cell_type": "code",
   "execution_count": 1,
   "id": "7b4e30f6",
   "metadata": {},
   "outputs": [
    {
     "name": "stdout",
     "output_type": "stream",
     "text": [
      "Números ímpares: [1, 3, 5, 7, 9, 11, 13, 15, 17, 19, 21, 23, 25, 27, 29, 31, 33, 35, 37, 39, 41, 43, 45, 47, 49, 51, 53, 55, 57, 59, 61, 63, 65, 67, 69, 71, 73, 75, 77, 79, 81, 83, 85, 87, 89, 91, 93, 95, 97, 99]\n"
     ]
    }
   ],
   "source": [
    "def filtrar_impares(lista):    # Retorna uma nova lista contendo apenas os números ímpares da lista original\n",
    "    return [numero for numero in lista if numero % 2 != 0]\n",
    "\n",
    "\n",
    "numeros = list(range(1, 100)) # Cria uma lista com números de 1 até 99\n",
    "\n",
    "\n",
    "impares = filtrar_impares(numeros) # Aplica a função para filtrar apenas os números ímpares da lista 'numeros'\n",
    "\n",
    "# Exibe a lista de números ímpares\n",
    "print(f\"Números ímpares: {impares}\")"
   ]
  },
  {
   "cell_type": "markdown",
   "id": "5e190589",
   "metadata": {},
   "source": [
    "\n",
    "### Explicação do código da classe NumerosPrimos\n",
    "\n",
    "- A classe NumerosPrimos é criada para facilitar a busca por números primos dentro de um intervalo definido.\n",
    "- O método `__init__` recebe dois parâmetros: o **início** e o **fim** do intervalo (padrão 1 a 100).\n",
    "- O método **`encontrar_primos`**:\n",
    "  - Cria uma lista vazia chamada `primos` para armazenar os números primos encontrados.\n",
    "  - Percorre todos os números entre o início e o fim do intervalo.\n",
    "  - Para cada número maior que 1, verifica se ele é divisível por algum número entre 2 e ele mesmo (exclusivo).\n",
    "    - Se for divisível, **não é primo** e o laço interno é interrompido (`break`).\n",
    "    - Se não for divisível por nenhum, então o número é considerado **primo** e adicionado à lista `primos`.\n",
    "  - Ao final, retorna a lista com todos os números primos encontrados no intervalo.\n",
    "- Fora da classe, criamos um objeto `np` da classe `NumerosPrimos` com intervalo de 1 a 100.\n",
    "- Chamamos o método `encontrar_primos` e imprimimos o resultado.\n"
   ]
  }
 ],
 "metadata": {
  "kernelspec": {
   "display_name": "base",
   "language": "python",
   "name": "python3"
  },
  "language_info": {
   "codemirror_mode": {
    "name": "ipython",
    "version": 3
   },
   "file_extension": ".py",
   "mimetype": "text/x-python",
   "name": "python",
   "nbconvert_exporter": "python",
   "pygments_lexer": "ipython3",
   "version": "3.12.7"
  }
 },
 "nbformat": 4,
 "nbformat_minor": 5
}
