{
 "cells": [
  {
   "cell_type": "markdown",
   "id": "6bf5bf3f",
   "metadata": {},
   "source": [
    "### 6 - Como identificar e tratar outliers em uma coluna numérica usando desvio padrão ou quartis?"
   ]
  }
 ],
 "metadata": {
  "language_info": {
   "name": "python"
  }
 },
 "nbformat": 4,
 "nbformat_minor": 5
}
