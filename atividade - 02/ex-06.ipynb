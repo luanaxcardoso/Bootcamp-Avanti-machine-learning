{
 "cells": [
  {
   "cell_type": "markdown",
   "id": "6bf5bf3f",
   "metadata": {},
   "source": [
    "### 6 - Como identificar e tratar outliers em uma coluna numérica usando desvio padrão ou quartis?"
   ]
  },
  {
   "cell_type": "code",
   "execution_count": null,
   "id": "45ec8377",
   "metadata": {},
   "outputs": [
    {
     "name": "stdout",
     "output_type": "stream",
     "text": [
      "Dados originais:\n",
      "   valores\n",
      "0     10.5\n",
      "1     12.3\n",
      "2     15.2\n",
      "3     14.8\n",
      "4    100.7\n",
      "5     13.6\n",
      "6     14.1\n",
      "7     11.4\n",
      "8      9.9\n",
      "\n",
      "Limites para detecção de outliers (2 desvios padrão):\n",
      "Limite inferior: -36.27\n",
      "Limite superior: 81.27\n",
      "\n",
      "Outliers detectados:\n",
      "   valores\n",
      "4    100.7\n",
      "\n",
      "Dados após remoção dos outliers:\n",
      "   valores\n",
      "0     10.5\n",
      "1     12.3\n",
      "2     15.2\n",
      "3     14.8\n",
      "5     13.6\n",
      "6     14.1\n",
      "7     11.4\n",
      "8      9.9\n"
     ]
    }
   ],
   "source": [
    "import pandas as pd\n",
    "\n",
    "# Exemplo de detecção de outliers usando desvio padrão\n",
    "df = pd.DataFrame({'valores': [10.5, 12.3, 15.2, 14.8, 100.7, 13.6, 14.1, 11.4, 9.9]})\n",
    "\n",
    "# Calcular média e desvio padrão\n",
    "media = df['valores'].mean()\n",
    "desvio = df['valores'].std()\n",
    "\n",
    "# Aqui foi usado 2 desvios padrão para limites de detecção de outliers\n",
    "limite_inferior = media - 2 * desvio\n",
    "limite_superior = media + 2 * desvio\n",
    "\n",
    "# Identificar outliers\n",
    "outliers = df[(df['valores'] < limite_inferior) | (df['valores'] > limite_superior)]\n",
    "\n",
    "# Dados sem outliers\n",
    "df_sem_outliers = df[(df['valores'] >= limite_inferior) & (df['valores'] <= limite_superior)]\n",
    "\n",
    "print(\"Dados originais:\")\n",
    "print(df)\n",
    "\n",
    "print(\"\\nLimites para detecção de outliers (2 desvios padrão):\")\n",
    "print(f\"Limite inferior: {limite_inferior:.2f}\")\n",
    "print(f\"Limite superior: {limite_superior:.2f}\")\n",
    "\n",
    "print(\"\\nOutliers detectados:\")\n",
    "if outliers.empty:\n",
    "    print(\"Nenhum outlier encontrado.\")\n",
    "else:\n",
    "    print(outliers)\n",
    "\n",
    "print(\"\\nDados após remoção dos outliers:\")\n",
    "print(df_sem_outliers)\n"
   ]
  },
  {
   "cell_type": "markdown",
   "id": "132dfd7d",
   "metadata": {},
   "source": [
    "### Explicação do código:\n",
    "\n",
    "- Ele calcula a média e o desvio padrão da coluna.\n",
    "\n",
    "- Define limites (inferior e superior) com base na média ± (k × desvio padrão), normalmente k = 2 ou 3.\n",
    "\n",
    "- Considera como outliers os valores fora desses limites.\n",
    "\n",
    "- Depois, filtra os dados para tratar os outliers (por exemplo, removendo-os).\n"
   ]
  }
 ],
 "metadata": {
  "kernelspec": {
   "display_name": "base",
   "language": "python",
   "name": "python3"
  },
  "language_info": {
   "codemirror_mode": {
    "name": "ipython",
    "version": 3
   },
   "file_extension": ".py",
   "mimetype": "text/x-python",
   "name": "python",
   "nbconvert_exporter": "python",
   "pygments_lexer": "ipython3",
   "version": "3.12.7"
  }
 },
 "nbformat": 4,
 "nbformat_minor": 5
}
