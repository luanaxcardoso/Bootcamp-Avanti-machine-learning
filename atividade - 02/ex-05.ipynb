{
 "cells": [
  {
   "cell_type": "markdown",
   "id": "f2f73ed5",
   "metadata": {},
   "source": [
    "### 5 -  Crie uma função que receba uma lista de tuplas, cada uma contendo o nome e a idade de uma pessoa, e retorne a lista ordenada pelo nome das pessoas em ordem alfabética."
   ]
  },
  {
   "cell_type": "code",
   "execution_count": 2,
   "id": "88aef3ae",
   "metadata": {},
   "outputs": [
    {
     "name": "stdout",
     "output_type": "stream",
     "text": [
      "Lista de pessoas em ordem alfabética:\n",
      "Clara - 55 anos\n",
      "Fabiana - 37 anos\n",
      "Gustavo - 32 anos\n",
      "Hugo - 22 anos\n",
      "Luis - 42 anos\n",
      "Mariana - 35 anos\n"
     ]
    }
   ],
   "source": [
    "def ordenar_por_nome(lista_de_pessoas):  # essa lista de pessoas é uma lista de tuplas\n",
    "    return sorted(lista_de_pessoas, key=lambda pessoa: pessoa[0].lower())  # foi usado sorted para ordenar por nome\n",
    "\n",
    "pessoas = [\n",
    "    (\"Mariana\", 35), (\"Fabiana\", 37), (\"Luis\", 42),\n",
    "    (\"Gustavo\", 32), (\"Hugo\", 22), (\"Clara\", 55)\n",
    "]\n",
    "\n",
    "ordenadas = ordenar_por_nome(pessoas) # chama a função para ordenar a lista de pessoas\n",
    "\n",
    "print(\"Lista de pessoas em ordem alfabética:\")\n",
    "for nome, idade in ordenadas:\n",
    "    print(f\"{nome} - {idade} anos\")\n",
    "\n",
    "\n"
   ]
  },
  {
   "cell_type": "markdown",
   "id": "b1505d50",
   "metadata": {},
   "source": [
    "<br>\n",
    "\n",
    "### Explicação do código:\n",
    "\n",
    "- O código define uma função que recebe uma lista de tuplas, onde cada tupla contém o nome e a idade de uma pessoa. \n",
    "- Usando a função sorted com lambda, ele ordena a lista em ordem alfabética pelo nome. \n",
    "- Em seguida, o código imprime essa lista ordenada.\n",
    "\n"
   ]
  }
 ],
 "metadata": {
  "kernelspec": {
   "display_name": "base",
   "language": "python",
   "name": "python3"
  },
  "language_info": {
   "codemirror_mode": {
    "name": "ipython",
    "version": 3
   },
   "file_extension": ".py",
   "mimetype": "text/x-python",
   "name": "python",
   "nbconvert_exporter": "python",
   "pygments_lexer": "ipython3",
   "version": "3.12.7"
  }
 },
 "nbformat": 4,
 "nbformat_minor": 5
}
