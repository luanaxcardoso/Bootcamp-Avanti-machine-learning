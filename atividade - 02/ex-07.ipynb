{
 "cells": [
  {
   "cell_type": "markdown",
   "id": "475d221e",
   "metadata": {},
   "source": [
    "### 7 - Como concatenar vários DataFrames (empilhando linhas ou colunas), mesmo que tenham colunas diferentes?\n",
    "\n"
   ]
  },
  {
   "cell_type": "code",
   "execution_count": null,
   "id": "b701d523",
   "metadata": {},
   "outputs": [
    {
     "name": "stdout",
     "output_type": "stream",
     "text": [
      "     Fruta  Quantidade  Preço\n",
      "0     Maçã        10.0    NaN\n",
      "1   Banana        20.0    NaN\n",
      "2  Laranja         NaN    2.5\n",
      "3      Uva         NaN    3.0\n",
      "\n",
      "\n",
      "    Fruta  Quantidade    Fruta  Preço\n",
      "0    Maçã          10  Laranja    2.5\n",
      "1  Banana          20      Uva    3.0\n"
     ]
    }
   ],
   "source": [
    "import pandas as pd\n",
    "\n",
    "# Criando dois DataFrames de exemplo\n",
    "\n",
    "df1 = pd.DataFrame({\n",
    "    'Fruta': ['Maçã', 'Banana'],\n",
    "    'Quantidade': [10, 20]\n",
    "})\n",
    "\n",
    "df2 = pd.DataFrame({\n",
    "    'Fruta': ['Laranja', 'Uva'],\n",
    "    'Preço': [2.5, 3.0]\n",
    "})\n",
    "\n",
    "# Concatenando por linhas (axis=0)\n",
    "df_concat_linhas = pd.concat([df1, df2], axis=0, ignore_index=True)\n",
    "\n",
    "print(df_concat_linhas)\n",
    "\n",
    "print(\"\\n\")\n",
    "\n",
    "# Concatenando por colunas (axis=1)\n",
    "df_concat_colunas = pd.concat([df1, df2], axis=1)\n",
    "\n",
    "print(df_concat_colunas)"
   ]
  },
  {
   "cell_type": "markdown",
   "id": "19ec9250",
   "metadata": {},
   "source": [
    "### Explicação do código:\n",
    "\n",
    "- Ele usa a biblioteca pandas para mostrar como juntar dois DataFrames, mesmo com colunas diferentes. \n",
    "- Ele faz isso de duas formas: \n",
    "    - empilhando por linhas (um embaixo do outro) com axis=0, preenchendo os espaços vazios com NaN; \n",
    "    - empilhando por colunas (lado a lado) com axis=1, alinhando as linhas pelo índice. \n",
    "- Assim, o código demonstra como combinar dados de tabelas diferentes de forma simples."
   ]
  }
 ],
 "metadata": {
  "kernelspec": {
   "display_name": "base",
   "language": "python",
   "name": "python3"
  },
  "language_info": {
   "codemirror_mode": {
    "name": "ipython",
    "version": 3
   },
   "file_extension": ".py",
   "mimetype": "text/x-python",
   "name": "python",
   "nbconvert_exporter": "python",
   "pygments_lexer": "ipython3",
   "version": "3.12.7"
  }
 },
 "nbformat": 4,
 "nbformat_minor": 5
}
