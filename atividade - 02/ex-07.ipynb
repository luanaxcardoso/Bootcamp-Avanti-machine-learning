{
 "cells": [
  {
   "cell_type": "markdown",
   "id": "475d221e",
   "metadata": {},
   "source": [
    "### 7 - Como concatenar vários DataFrames (empilhando linhas ou colunas), mesmo que tenham colunas diferentes?\n",
    "\n"
   ]
  }
 ],
 "metadata": {
  "language_info": {
   "name": "python"
  }
 },
 "nbformat": 4,
 "nbformat_minor": 5
}
