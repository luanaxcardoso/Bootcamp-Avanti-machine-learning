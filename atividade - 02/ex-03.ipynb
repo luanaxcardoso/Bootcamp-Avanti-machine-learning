{
 "cells": [
  {
   "cell_type": "markdown",
   "id": "1f6e4ea4",
   "metadata": {},
   "source": [
    "### 3 - Escreva uma função que receba duas listas e retorne outra lista com os elementos que estão presentes em apenas uma das listas."
   ]
  },
  {
   "cell_type": "code",
   "execution_count": 1,
   "id": "a02b67f0",
   "metadata": {},
   "outputs": [
    {
     "name": "stdout",
     "output_type": "stream",
     "text": [
      "Elementos únicos: [1, 2, 3, 4, 5, 6, 7, 8, 9, 10, 11, 12, 13, 14, 15, 16, 17, 18, 19, 40, 41, 42, 43, 44, 45, 46, 47, 48, 49, 50, 51, 52, 53, 54, 55, 56, 57, 58, 59, 60, 61]\n",
      "Total de elementos únicos: 41\n"
     ]
    }
   ],
   "source": [
    "def elementos_unicos(lista1, lista2):\n",
    "    unicos = []  # Lista para armazenar elementos exclusivos de cada lista\n",
    "\n",
    "    # Percorre a primeira lista e adiciona elementos que não estão na segunda e ainda não foram adicionados\n",
    "    for item in lista1:\n",
    "        if item not in lista2 and item not in unicos:\n",
    "            unicos.append(item)\n",
    "    \n",
    "    # Percorre a segunda lista e adiciona elementos que não estão na primeira e ainda não foram adicionados\n",
    "    for item in lista2:\n",
    "        if item not in lista1 and item not in unicos:\n",
    "            unicos.append(item)\n",
    "    \n",
    "    return unicos  # Retorna a lista com elementos únicos de ambas as listas\n",
    "\n",
    "if __name__ == \"__main__\":\n",
    "    lista1 = list(range(1, 40))  # Lista com números de 1 a 39\n",
    "    lista2 = list(range(20, 62)) # Lista com números de 20 a 61\n",
    "    \n",
    "    unicos = elementos_unicos(lista1, lista2)  # Chama a função para encontrar elementos exclusivos\n",
    "    \n",
    "    print(f\"Elementos únicos: {unicos}\")         # Imprime os elementos únicos encontrados\n",
    "    print(f\"Total de elementos únicos: {len(unicos)}\")  # Imprime o total desses elementos\n"
   ]
  },
  {
   "cell_type": "markdown",
   "id": "711f10b1",
   "metadata": {},
   "source": [
    "<br>\n",
    "\n",
    "### Explicação do código:\n",
    "\n",
    "- A função **`elementos_unicos`** recebe duas listas e retorna uma nova lista contendo apenas os elementos exclusivos de cada uma delas — ou seja, os valores que aparecem em apenas uma das listas.\n",
    "\n",
    "- Para isso, a função cria uma lista vazia chamada **`unicos`**, que armazenará esses elementos. Ela percorre a primeira lista (**`lista1`**) e verifica se cada item **não está presente na segunda lista** (**`lista2`**) e ainda não foi adicionado à lista **`unicos`**; se for o caso, adiciona esse item. Depois, faz o mesmo para os elementos da segunda lista, comparando com a primeira.\n",
    "\n",
    "- No final, a função retorna a lista **`unicos`** com todos os valores exclusivos.\n",
    "\n",
    "- No exemplo usado, **`lista1`** contém os números de 1 a 39, e **`lista2`** contém os números de 20 a 61. Como há uma interseção entre 20 e 39, esses valores aparecem em ambas as listas e não são considerados únicos. Já os números de 1 a 19 (presentes só em **`lista1`**) e de 40 a 61 (presentes só em **`lista2`**) são os elementos exclusivos retornados.\n",
    "\n",
    "- Por fim, a função imprime a lista resultante e o total de elementos únicos encontrados.\n"
   ]
  }
 ],
 "metadata": {
  "kernelspec": {
   "display_name": "base",
   "language": "python",
   "name": "python3"
  },
  "language_info": {
   "codemirror_mode": {
    "name": "ipython",
    "version": 3
   },
   "file_extension": ".py",
   "mimetype": "text/x-python",
   "name": "python",
   "nbconvert_exporter": "python",
   "pygments_lexer": "ipython3",
   "version": "3.12.7"
  }
 },
 "nbformat": 4,
 "nbformat_minor": 5
}
